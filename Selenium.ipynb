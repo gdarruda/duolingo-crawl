{
 "cells": [
  {
   "cell_type": "code",
   "execution_count": 1,
   "source": [
    "from selenium.webdriver import Firefox\n",
    "from selenium.webdriver.firefox.options import Options\n",
    "from selenium.webdriver.firefox.webdriver import WebDriver\n",
    "from selenium.webdriver.support.ui import WebDriverWait\n"
   ],
   "outputs": [],
   "metadata": {}
  },
  {
   "cell_type": "code",
   "execution_count": 2,
   "source": [
    "def login(browser: WebDriver,\n",
    "          user: str,\n",
    "          password: str):\n",
    "    \n",
    "    results = (browser\n",
    "        .find_elements_by_xpath('//a[@class=\"_3mSsk _2AkYE _1figt whuSQ _2gwtT _1nlVc _2fOC9 t5wFJ _3dtSu _25Cnc _3yAjN UCrz7 yTpGk _2QOX5\"]'))\n",
    "\n",
    "    if len(results) > 0:\n",
    "        results[0].click()\n",
    "    else:\n",
    "\t    raise \"Não encontrou botão de login!\"\n",
    "\n",
    "    results = (browser\n",
    "        .find_elements_by_xpath('//input[@data-test=\"email-input\"]'))\n",
    "\n",
    "    if len(results) > 0:\n",
    "        results[0].send_keys(user)\n",
    "    else:\n",
    "\t    raise \"Não encontrou email!\"\n",
    "    \n",
    "    results = (browser\n",
    "        .find_elements_by_xpath('//input[@data-test=\"password-input\"]'))\n",
    "\n",
    "    if len(results) > 0:\n",
    "        results[0].send_keys(password)\n",
    "    else:\n",
    "\t    raise \"Não encontrou password!\"\n",
    "\n",
    "    results = browser.find_elements_by_xpath('//button[@data-test=\"register-button\"]')\n",
    "\n",
    "    if len(results) > 0:\n",
    "        results[0].click()\n",
    "    else:\n",
    "\t    raise \"Não encontrou botão!\"\n"
   ],
   "outputs": [],
   "metadata": {}
  },
  {
   "cell_type": "code",
   "execution_count": 3,
   "source": [
    "def get_options(browser: WebDriver) -> list[str]:\n",
    "    \n",
    "    return [\n",
    "        button.text\n",
    "        for button in browser.find_elements_by_xpath('''//button[@data-test=\"challenge-tap-token\"]/span''')\n",
    "    ]\n",
    "    "
   ],
   "outputs": [],
   "metadata": {}
  },
  {
   "cell_type": "code",
   "execution_count": 4,
   "source": [
    "opts = Options()\n",
    "opts.headless = False\n",
    "\n",
    "browser = Firefox(options=opts)\n",
    "browser.get('https://www.duolingo.com')\n",
    "\n",
    "login(browser, \n",
    "      \"student.duo01@gmail.com\",\n",
    "      \"Estudante01\")\n",
    "\n",
    "# el = WebDriverWait(browser, timeout=10).until(lambda d: d.find_elements_by_xpath ('''//div[@class=\"Mr3if _2OhdT _1V15X _3PSt5\" and text()=\"Introdução\"]'''))\n",
    "# browser.get(\"https://www.duolingo.com/skill/en/Intro/1\")\n",
    "\n",
    "# el = WebDriverWait(browser, timeout=10).until(lambda d: d.find_elements_by_xpath ('''//button[@data-test=\"player-next\"]'''))\n",
    "# get_options(browser)\n"
   ],
   "outputs": [
    {
     "output_type": "execute_result",
     "data": {
      "text/plain": [
       "['Fernanda', 'Maria', 'Pedro', 'Portugal', 'nome', 'Meu']"
      ]
     },
     "metadata": {},
     "execution_count": 4
    }
   ],
   "metadata": {}
  }
 ],
 "metadata": {
  "orig_nbformat": 4,
  "language_info": {
   "name": "python",
   "version": "3.9.6",
   "mimetype": "text/x-python",
   "codemirror_mode": {
    "name": "ipython",
    "version": 3
   },
   "pygments_lexer": "ipython3",
   "nbconvert_exporter": "python",
   "file_extension": ".py"
  },
  "kernelspec": {
   "name": "python3",
   "display_name": "Python 3.9.6 64-bit ('env': venv)"
  },
  "interpreter": {
   "hash": "13d9608f43ba405b8896a6686a2d7929f908e9342db67ad6d9fdc920ea1b4602"
  }
 },
 "nbformat": 4,
 "nbformat_minor": 2
}